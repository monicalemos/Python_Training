{
 "cells": [
  {
   "cell_type": "markdown",
   "metadata": {},
   "source": [
    "___\n",
    "\n",
    "<a href='https://www.udemy.com/user/joseportilla/'><img src='../Pierian_Data_Logo.png'/></a>\n",
    "___\n",
    "<center><em>Content Copyright by Pierian Data</em></center>"
   ]
  },
  {
   "cell_type": "markdown",
   "metadata": {},
   "source": [
    "# Function Practice Exercises\n",
    "\n",
    "Problems are arranged in increasing difficulty:\n",
    "* Warmup - these can be solved using basic comparisons and methods\n",
    "* Level 1 - these may involve if/then conditional statements and simple methods\n",
    "* Level 2 - these may require iterating over sequences, usually with some kind of loop\n",
    "* Challenging - these will take some creativity to solve"
   ]
  },
  {
   "cell_type": "markdown",
   "metadata": {},
   "source": [
    "## WARMUP SECTION:"
   ]
  },
  {
   "cell_type": "markdown",
   "metadata": {},
   "source": [
    "#### LESSER OF TWO EVENS: Write a function that returns the lesser of two given numbers *if* both numbers are even, but returns the greater if one or both numbers are odd\n",
    "    lesser_of_two_evens(2,4) --> 2\n",
    "    lesser_of_two_evens(2,5) --> 5"
   ]
  },
  {
   "cell_type": "code",
   "metadata": {
    "collapsed": true,
    "ExecuteTime": {
     "end_time": "2025-08-12T08:34:44.561507Z",
     "start_time": "2025-08-12T08:34:44.556238Z"
    }
   },
   "source": [
    "def lesser_of_two_evens(a,b):\n",
    "    if a%2 == 0 and b%2 == 0:\n",
    "        return min(a, b)\n",
    "    else:\n",
    "        return max(a,b)"
   ],
   "outputs": [],
   "execution_count": 27
  },
  {
   "cell_type": "code",
   "metadata": {
    "collapsed": true,
    "ExecuteTime": {
     "end_time": "2025-08-12T08:34:45.433630Z",
     "start_time": "2025-08-12T08:34:45.426432Z"
    }
   },
   "source": [
    "# Check\n",
    "lesser_of_two_evens(2,4)"
   ],
   "outputs": [
    {
     "data": {
      "text/plain": [
       "2"
      ]
     },
     "execution_count": 28,
     "metadata": {},
     "output_type": "execute_result"
    }
   ],
   "execution_count": 28
  },
  {
   "cell_type": "code",
   "metadata": {
    "collapsed": true,
    "ExecuteTime": {
     "end_time": "2025-08-12T08:34:46.246852Z",
     "start_time": "2025-08-12T08:34:46.240586Z"
    }
   },
   "source": [
    "# Check\n",
    "lesser_of_two_evens(2,5)"
   ],
   "outputs": [
    {
     "data": {
      "text/plain": [
       "5"
      ]
     },
     "execution_count": 29,
     "metadata": {},
     "output_type": "execute_result"
    }
   ],
   "execution_count": 29
  },
  {
   "cell_type": "markdown",
   "metadata": {},
   "source": [
    "#### ANIMAL CRACKERS: Write a function takes a two-word string and returns True if both words begin with same letter\n",
    "    animal_crackers('Levelheaded Llama') --> True\n",
    "    animal_crackers('Crazy Kangaroo') --> False"
   ]
  },
  {
   "cell_type": "code",
   "metadata": {
    "collapsed": true,
    "ExecuteTime": {
     "end_time": "2025-08-12T08:35:05.772540Z",
     "start_time": "2025-08-12T08:35:05.765822Z"
    }
   },
   "source": [
    "def animal_crackers(text):\n",
    "    words = text.split()\n",
    "    return words[0][0] == words[1][0]"
   ],
   "outputs": [],
   "execution_count": 30
  },
  {
   "cell_type": "code",
   "metadata": {
    "collapsed": true,
    "ExecuteTime": {
     "end_time": "2025-08-12T08:35:06.761422Z",
     "start_time": "2025-08-12T08:35:06.754832Z"
    }
   },
   "source": [
    "# Check\n",
    "animal_crackers('Levelheaded Llama')"
   ],
   "outputs": [
    {
     "data": {
      "text/plain": [
       "True"
      ]
     },
     "execution_count": 31,
     "metadata": {},
     "output_type": "execute_result"
    }
   ],
   "execution_count": 31
  },
  {
   "cell_type": "code",
   "metadata": {
    "collapsed": true,
    "ExecuteTime": {
     "end_time": "2025-08-12T08:35:07.695648Z",
     "start_time": "2025-08-12T08:35:07.687542Z"
    }
   },
   "source": [
    "# Check\n",
    "animal_crackers('Crazy Kangaroo')"
   ],
   "outputs": [
    {
     "data": {
      "text/plain": [
       "False"
      ]
     },
     "execution_count": 32,
     "metadata": {},
     "output_type": "execute_result"
    }
   ],
   "execution_count": 32
  },
  {
   "cell_type": "markdown",
   "metadata": {},
   "source": [
    "#### MAKES TWENTY: Given two integers, return True if the sum of the integers is 20 *or* if one of the integers is 20. If not, return False\n",
    "\n",
    "    makes_twenty(20,10) --> True\n",
    "    makes_twenty(12,8) --> True\n",
    "    makes_twenty(2,3) --> False"
   ]
  },
  {
   "cell_type": "code",
   "metadata": {
    "collapsed": true,
    "ExecuteTime": {
     "end_time": "2025-08-12T08:40:35.066723Z",
     "start_time": "2025-08-12T08:40:35.060419Z"
    }
   },
   "source": [
    "def makes_twenty(n1,n2):\n",
    "    return (n1+n2)==20 or n1==20 or n2==20"
   ],
   "outputs": [],
   "execution_count": 44
  },
  {
   "cell_type": "code",
   "metadata": {
    "collapsed": true,
    "ExecuteTime": {
     "end_time": "2025-08-12T08:40:08.604027Z",
     "start_time": "2025-08-12T08:40:08.596661Z"
    }
   },
   "source": [
    "# Check\n",
    "makes_twenty(20,10)"
   ],
   "outputs": [
    {
     "data": {
      "text/plain": [
       "True"
      ]
     },
     "execution_count": 39,
     "metadata": {},
     "output_type": "execute_result"
    }
   ],
   "execution_count": 39
  },
  {
   "metadata": {
    "ExecuteTime": {
     "end_time": "2025-08-12T08:40:17.441124Z",
     "start_time": "2025-08-12T08:40:17.432089Z"
    }
   },
   "cell_type": "code",
   "source": [
    "# Check\n",
    "makes_twenty(12,8)"
   ],
   "outputs": [
    {
     "data": {
      "text/plain": [
       "True"
      ]
     },
     "execution_count": 43,
     "metadata": {},
     "output_type": "execute_result"
    }
   ],
   "execution_count": 43
  },
  {
   "metadata": {
    "ExecuteTime": {
     "end_time": "2025-08-12T08:40:12.269235Z",
     "start_time": "2025-08-12T08:40:12.262040Z"
    }
   },
   "cell_type": "code",
   "source": [
    "# Check\n",
    "makes_twenty(10,20)"
   ],
   "outputs": [
    {
     "data": {
      "text/plain": [
       "True"
      ]
     },
     "execution_count": 41,
     "metadata": {},
     "output_type": "execute_result"
    }
   ],
   "execution_count": 41
  },
  {
   "cell_type": "code",
   "metadata": {
    "collapsed": true,
    "ExecuteTime": {
     "end_time": "2025-08-12T08:40:13.362866Z",
     "start_time": "2025-08-12T08:40:13.355589Z"
    }
   },
   "source": [
    "# Check\n",
    "makes_twenty(2,3)"
   ],
   "outputs": [
    {
     "data": {
      "text/plain": [
       "False"
      ]
     },
     "execution_count": 42,
     "metadata": {},
     "output_type": "execute_result"
    }
   ],
   "execution_count": 42
  },
  {
   "cell_type": "markdown",
   "metadata": {},
   "source": [
    "# LEVEL 1 PROBLEMS"
   ]
  },
  {
   "cell_type": "markdown",
   "metadata": {},
   "source": [
    "#### OLD MACDONALD: Write a function that capitalizes the first and fourth letters of a name\n",
    "     \n",
    "    old_macdonald('macdonald') --> MacDonald\n",
    "    \n",
    "Note: `'macdonald'.capitalize()` returns `'Macdonald'`"
   ]
  },
  {
   "cell_type": "code",
   "metadata": {
    "collapsed": true,
    "ExecuteTime": {
     "end_time": "2025-08-12T08:44:36.503278Z",
     "start_time": "2025-08-12T08:44:36.496618Z"
    }
   },
   "source": [
    "def old_macdonald(name):\n",
    "    return_str = \"\"\n",
    "    if len(name)<3:\n",
    "        return \"Name is too short\"\n",
    "    else:\n",
    "        return name[:3].capitalize() + name[3:].capitalize()\n",
    "    #for i in range(len(name)):\n",
    "    #    if i==0 or i == 3:\n",
    "    #        return_str += name[i].upper()\n",
    "    #    else:\n",
    "    #        return_str += name[i]\n",
    "    #return return_str"
   ],
   "outputs": [],
   "execution_count": 47
  },
  {
   "cell_type": "code",
   "metadata": {
    "collapsed": true,
    "ExecuteTime": {
     "end_time": "2025-08-12T08:45:08.779103Z",
     "start_time": "2025-08-12T08:45:08.770614Z"
    }
   },
   "source": [
    "# Check\n",
    "old_macdonald('macdonald')"
   ],
   "outputs": [
    {
     "data": {
      "text/plain": [
       "'MacDonald'"
      ]
     },
     "execution_count": 53,
     "metadata": {},
     "output_type": "execute_result"
    }
   ],
   "execution_count": 53
  },
  {
   "cell_type": "markdown",
   "metadata": {},
   "source": [
    "#### MASTER YODA: Given a sentence, return a sentence with the words reversed\n",
    "\n",
    "    master_yoda('I am home') --> 'home am I'\n",
    "    master_yoda('We are ready') --> 'ready are We'\n",
    "    \n",
    "Note: The .join() method may be useful here. The .join() method allows you to join together strings in a list with some connector string. For example, some uses of the .join() method:\n",
    "\n",
    "    >>> \"--\".join(['a','b','c'])\n",
    "    >>> 'a--b--c'\n",
    "\n",
    "This means if you had a list of words you wanted to turn back into a sentence, you could just join them with a single space string:\n",
    "\n",
    "    >>> \" \".join(['Hello','world'])\n",
    "    >>> \"Hello world\""
   ]
  },
  {
   "cell_type": "code",
   "metadata": {
    "collapsed": true,
    "ExecuteTime": {
     "end_time": "2025-08-12T08:51:26.792397Z",
     "start_time": "2025-08-12T08:51:26.784176Z"
    }
   },
   "source": [
    "def master_yoda(text):\n",
    "    return ' '.join(text.split()[::-1])\n",
    "\n",
    "    #list1 = text.split()\n",
    "    #list_rev = []\n",
    "    #for i in range(len(list1) -1, -1, -1):\n",
    "    #    list_rev.append(list1[i])\n",
    "    #return \"\".join(list_rev)"
   ],
   "outputs": [],
   "execution_count": 66
  },
  {
   "cell_type": "code",
   "metadata": {
    "collapsed": true,
    "ExecuteTime": {
     "end_time": "2025-08-12T08:51:28.130487Z",
     "start_time": "2025-08-12T08:51:28.123676Z"
    }
   },
   "source": "master_yoda('I am home')",
   "outputs": [
    {
     "data": {
      "text/plain": [
       "'home am I'"
      ]
     },
     "execution_count": 67,
     "metadata": {},
     "output_type": "execute_result"
    }
   ],
   "execution_count": 67
  },
  {
   "cell_type": "code",
   "metadata": {
    "collapsed": true,
    "ExecuteTime": {
     "end_time": "2025-08-12T08:51:29.295893Z",
     "start_time": "2025-08-12T08:51:29.289521Z"
    }
   },
   "source": [
    "# Check\n",
    "master_yoda('We are ready')"
   ],
   "outputs": [
    {
     "data": {
      "text/plain": [
       "'ready are We'"
      ]
     },
     "execution_count": 68,
     "metadata": {},
     "output_type": "execute_result"
    }
   ],
   "execution_count": 68
  },
  {
   "cell_type": "markdown",
   "metadata": {},
   "source": [
    "#### ALMOST THERE: Given an integer n, return True if n is within 10 of either 100 or 200\n",
    "\n",
    "    almost_there(90) --> True\n",
    "    almost_there(104) --> True\n",
    "    almost_there(150) --> False\n",
    "    almost_there(209) --> True\n",
    "    \n",
    "NOTE: `abs(num)` returns the absolute value of a number"
   ]
  },
  {
   "cell_type": "code",
   "metadata": {
    "collapsed": true,
    "ExecuteTime": {
     "end_time": "2025-08-12T08:57:54.512270Z",
     "start_time": "2025-08-12T08:57:54.505350Z"
    }
   },
   "source": [
    "def almost_there(n):\n",
    "    return abs(100 -n) <= 10 or abs(200 -n) <= 10"
   ],
   "outputs": [],
   "execution_count": 92
  },
  {
   "metadata": {
    "ExecuteTime": {
     "end_time": "2025-08-12T08:57:55.353368Z",
     "start_time": "2025-08-12T08:57:55.346182Z"
    }
   },
   "cell_type": "code",
   "source": [
    "# Check\n",
    "almost_there(90)"
   ],
   "outputs": [
    {
     "data": {
      "text/plain": [
       "True"
      ]
     },
     "execution_count": 93,
     "metadata": {},
     "output_type": "execute_result"
    }
   ],
   "execution_count": 93
  },
  {
   "cell_type": "code",
   "metadata": {
    "collapsed": true,
    "ExecuteTime": {
     "end_time": "2025-08-12T08:57:56.151036Z",
     "start_time": "2025-08-12T08:57:56.141492Z"
    }
   },
   "source": [
    "# Check\n",
    "almost_there(104)"
   ],
   "outputs": [
    {
     "data": {
      "text/plain": [
       "True"
      ]
     },
     "execution_count": 94,
     "metadata": {},
     "output_type": "execute_result"
    }
   ],
   "execution_count": 94
  },
  {
   "cell_type": "code",
   "metadata": {
    "collapsed": true,
    "ExecuteTime": {
     "end_time": "2025-08-12T08:57:56.974346Z",
     "start_time": "2025-08-12T08:57:56.965290Z"
    }
   },
   "source": [
    "# Check\n",
    "almost_there(150)"
   ],
   "outputs": [
    {
     "data": {
      "text/plain": [
       "False"
      ]
     },
     "execution_count": 95,
     "metadata": {},
     "output_type": "execute_result"
    }
   ],
   "execution_count": 95
  },
  {
   "cell_type": "code",
   "metadata": {
    "collapsed": true,
    "ExecuteTime": {
     "end_time": "2025-08-12T08:57:57.621521Z",
     "start_time": "2025-08-12T08:57:57.612076Z"
    }
   },
   "source": [
    "# Check\n",
    "almost_there(209)"
   ],
   "outputs": [
    {
     "data": {
      "text/plain": [
       "True"
      ]
     },
     "execution_count": 96,
     "metadata": {},
     "output_type": "execute_result"
    }
   ],
   "execution_count": 96
  },
  {
   "cell_type": "markdown",
   "metadata": {},
   "source": [
    "# LEVEL 2 PROBLEMS"
   ]
  },
  {
   "cell_type": "markdown",
   "metadata": {},
   "source": [
    "#### FIND 33: \n",
    "\n",
    "Given a list of ints, return True if the array contains a 3 next to a 3 somewhere.\n",
    "\n",
    "    has_33([1, 3, 3]) → True\n",
    "    has_33([1, 3, 1, 3]) → False\n",
    "    has_33([3, 1, 3]) → False"
   ]
  },
  {
   "cell_type": "code",
   "metadata": {
    "collapsed": true,
    "ExecuteTime": {
     "end_time": "2025-08-12T09:27:23.625399Z",
     "start_time": "2025-08-12T09:27:23.617157Z"
    }
   },
   "source": [
    "def has_33(nums):\n",
    "    for n in range(0, len(nums)-1):\n",
    "        if nums[n] == 3 and nums[n+1] == 3:\n",
    "            return True\n",
    "    return False"
   ],
   "outputs": [],
   "execution_count": 152
  },
  {
   "cell_type": "code",
   "metadata": {
    "collapsed": true,
    "ExecuteTime": {
     "end_time": "2025-08-12T09:27:25.105173Z",
     "start_time": "2025-08-12T09:27:25.097048Z"
    }
   },
   "source": [
    "# Check\n",
    "has_33([1, 3, 3])"
   ],
   "outputs": [
    {
     "data": {
      "text/plain": [
       "True"
      ]
     },
     "execution_count": 153,
     "metadata": {},
     "output_type": "execute_result"
    }
   ],
   "execution_count": 153
  },
  {
   "cell_type": "code",
   "metadata": {
    "collapsed": true,
    "ExecuteTime": {
     "end_time": "2025-08-12T09:27:26.164457Z",
     "start_time": "2025-08-12T09:27:26.156992Z"
    }
   },
   "source": [
    "# Check\n",
    "has_33([1, 3, 1, 3])"
   ],
   "outputs": [
    {
     "data": {
      "text/plain": [
       "False"
      ]
     },
     "execution_count": 154,
     "metadata": {},
     "output_type": "execute_result"
    }
   ],
   "execution_count": 154
  },
  {
   "cell_type": "code",
   "metadata": {
    "collapsed": true,
    "ExecuteTime": {
     "end_time": "2025-08-12T09:27:27.241590Z",
     "start_time": "2025-08-12T09:27:27.235182Z"
    }
   },
   "source": [
    "# Check\n",
    "has_33([3, 1, 3])"
   ],
   "outputs": [
    {
     "data": {
      "text/plain": [
       "False"
      ]
     },
     "execution_count": 155,
     "metadata": {},
     "output_type": "execute_result"
    }
   ],
   "execution_count": 155
  },
  {
   "cell_type": "markdown",
   "metadata": {},
   "source": [
    "#### PAPER DOLL: Given a string, return a string where for every character in the original there are three characters\n",
    "    paper_doll('Hello') --> 'HHHeeellllllooo'\n",
    "    paper_doll('Mississippi') --> 'MMMiiissssssiiippppppiii'"
   ]
  },
  {
   "cell_type": "code",
   "metadata": {
    "collapsed": true,
    "ExecuteTime": {
     "end_time": "2025-08-12T09:34:02.118822Z",
     "start_time": "2025-08-12T09:34:02.111834Z"
    }
   },
   "source": [
    "def paper_doll(text):\n",
    "    #new_lst = list(text)\n",
    "    result = []\n",
    "    for i in range(0, len(text)-1):\n",
    "        result.append(text[i] + text[i] + text[i])\n",
    "\n",
    "    rsl = \"\"\n",
    "    for char in text:\n",
    "        rsl += char * 3\n",
    "    return rsl\n",
    "\n",
    "    #return \"\".join(result)"
   ],
   "outputs": [],
   "execution_count": 163
  },
  {
   "cell_type": "code",
   "metadata": {
    "collapsed": true,
    "ExecuteTime": {
     "end_time": "2025-08-12T09:34:04.557011Z",
     "start_time": "2025-08-12T09:34:04.547245Z"
    }
   },
   "source": [
    "# Check\n",
    "paper_doll('Hello')"
   ],
   "outputs": [
    {
     "data": {
      "text/plain": [
       "'HHHeeellllllooo'"
      ]
     },
     "execution_count": 164,
     "metadata": {},
     "output_type": "execute_result"
    }
   ],
   "execution_count": 164
  },
  {
   "cell_type": "code",
   "metadata": {
    "collapsed": true,
    "ExecuteTime": {
     "end_time": "2025-08-12T09:34:05.925107Z",
     "start_time": "2025-08-12T09:34:05.918100Z"
    }
   },
   "source": [
    "# Check\n",
    "paper_doll('Mississippi')"
   ],
   "outputs": [
    {
     "data": {
      "text/plain": [
       "'MMMiiissssssiiissssssiiippppppiii'"
      ]
     },
     "execution_count": 165,
     "metadata": {},
     "output_type": "execute_result"
    }
   ],
   "execution_count": 165
  },
  {
   "cell_type": "markdown",
   "metadata": {},
   "source": [
    "#### BLACKJACK: Given three integers between 1 and 11, if their sum is less than or equal to 21, return their sum. If their sum exceeds 21 *and* there's an eleven, reduce the total sum by 10. Finally, if the sum (even after adjustment) exceeds 21, return 'BUST'\n",
    "    blackjack(5,6,7) --> 18\n",
    "    blackjack(9,9,9) --> 'BUST'\n",
    "    blackjack(9,9,11) --> 19"
   ]
  },
  {
   "cell_type": "code",
   "metadata": {
    "collapsed": true,
    "ExecuteTime": {
     "end_time": "2025-08-12T10:21:46.684882Z",
     "start_time": "2025-08-12T10:21:46.676340Z"
    }
   },
   "source": [
    "def blackjack(a,b,c):\n",
    "    sum21 = sum((a,b,c))\n",
    "    if sum21 <= 21 :\n",
    "        return sum21\n",
    "    elif sum21 > 21 and 11 in (a,b,c) :\n",
    "        return sum21-10\n",
    "    else:\n",
    "        return \"BUST\"\n"
   ],
   "outputs": [],
   "execution_count": 170
  },
  {
   "cell_type": "code",
   "metadata": {
    "collapsed": true,
    "ExecuteTime": {
     "end_time": "2025-08-12T10:21:49.718211Z",
     "start_time": "2025-08-12T10:21:49.711776Z"
    }
   },
   "source": [
    "# Check\n",
    "blackjack(5,6,7)"
   ],
   "outputs": [
    {
     "data": {
      "text/plain": [
       "18"
      ]
     },
     "execution_count": 171,
     "metadata": {},
     "output_type": "execute_result"
    }
   ],
   "execution_count": 171
  },
  {
   "cell_type": "code",
   "metadata": {
    "collapsed": true,
    "ExecuteTime": {
     "end_time": "2025-08-12T10:21:52.241108Z",
     "start_time": "2025-08-12T10:21:52.234597Z"
    }
   },
   "source": [
    "# Check\n",
    "blackjack(9,9,9)"
   ],
   "outputs": [
    {
     "data": {
      "text/plain": [
       "'BUST'"
      ]
     },
     "execution_count": 172,
     "metadata": {},
     "output_type": "execute_result"
    }
   ],
   "execution_count": 172
  },
  {
   "cell_type": "code",
   "metadata": {
    "collapsed": true,
    "ExecuteTime": {
     "end_time": "2025-08-12T10:21:54.535677Z",
     "start_time": "2025-08-12T10:21:54.529277Z"
    }
   },
   "source": [
    "# Check\n",
    "blackjack(9,9,11)"
   ],
   "outputs": [
    {
     "data": {
      "text/plain": [
       "19"
      ]
     },
     "execution_count": 173,
     "metadata": {},
     "output_type": "execute_result"
    }
   ],
   "execution_count": 173
  },
  {
   "cell_type": "markdown",
   "metadata": {},
   "source": [
    "#### SUMMER OF '69: Return the sum of the numbers in the array, except ignore sections of numbers starting with a 6 and extending to the next 9 (every 6 will be followed by at least one 9). Return 0 for no numbers.\n",
    " \n",
    "    summer_69([1, 3, 5]) --> 9\n",
    "    summer_69([4, 5, 6, 7, 8, 9]) --> 9\n",
    "    summer_69([2, 1, 6, 9, 11]) --> 14"
   ]
  },
  {
   "cell_type": "code",
   "metadata": {
    "collapsed": true,
    "ExecuteTime": {
     "end_time": "2025-08-12T10:31:40.213865Z",
     "start_time": "2025-08-12T10:31:40.203840Z"
    }
   },
   "source": [
    "def summer_69(arr):\n",
    "    result = 0\n",
    "    add = True\n",
    "    for num in arr :\n",
    "        while add:\n",
    "            if num != 6:\n",
    "                result += num\n",
    "                break\n",
    "            else:\n",
    "                add = False\n",
    "        while not add:\n",
    "            if num != 9:\n",
    "                break\n",
    "            else:\n",
    "                add = True\n",
    "                break\n",
    "    return result"
   ],
   "outputs": [],
   "execution_count": 191
  },
  {
   "cell_type": "code",
   "metadata": {
    "collapsed": true,
    "ExecuteTime": {
     "end_time": "2025-08-12T10:31:42.169980Z",
     "start_time": "2025-08-12T10:31:42.162941Z"
    }
   },
   "source": [
    "# Check\n",
    "summer_69([1, 3, 5])"
   ],
   "outputs": [
    {
     "data": {
      "text/plain": [
       "9"
      ]
     },
     "execution_count": 192,
     "metadata": {},
     "output_type": "execute_result"
    }
   ],
   "execution_count": 192
  },
  {
   "cell_type": "code",
   "metadata": {
    "collapsed": true,
    "ExecuteTime": {
     "end_time": "2025-08-12T10:31:50.723338Z",
     "start_time": "2025-08-12T10:31:50.715125Z"
    }
   },
   "source": [
    "# Check\n",
    "summer_69([4, 5, 6, 7, 8, 9])"
   ],
   "outputs": [
    {
     "data": {
      "text/plain": [
       "9"
      ]
     },
     "execution_count": 195,
     "metadata": {},
     "output_type": "execute_result"
    }
   ],
   "execution_count": 195
  },
  {
   "cell_type": "code",
   "metadata": {
    "collapsed": true,
    "ExecuteTime": {
     "end_time": "2025-08-12T10:31:53.577150Z",
     "start_time": "2025-08-12T10:31:53.570687Z"
    }
   },
   "source": [
    "# Check\n",
    "summer_69([2, 1, 6, 9, 11])"
   ],
   "outputs": [
    {
     "data": {
      "text/plain": [
       "14"
      ]
     },
     "execution_count": 196,
     "metadata": {},
     "output_type": "execute_result"
    }
   ],
   "execution_count": 196
  },
  {
   "cell_type": "markdown",
   "metadata": {},
   "source": [
    "# CHALLENGING PROBLEMS"
   ]
  },
  {
   "cell_type": "markdown",
   "metadata": {},
   "source": [
    "#### SPY GAME: Write a function that takes in a list of integers and returns True if it contains 007 in order\n",
    "\n",
    "     spy_game([1,2,4,0,0,7,5]) --> True\n",
    "     spy_game([1,0,2,4,0,5,7]) --> True\n",
    "     spy_game([1,7,2,0,4,5,0]) --> False\n"
   ]
  },
  {
   "cell_type": "code",
   "metadata": {
    "collapsed": true,
    "ExecuteTime": {
     "end_time": "2025-08-12T10:44:25.681030Z",
     "start_time": "2025-08-12T10:44:25.675126Z"
    }
   },
   "source": [
    "def spy_game(nums):\n",
    "    code = [0, 0, 7, 'X']\n",
    "\n",
    "    for n in nums:\n",
    "        if n == code[0]:\n",
    "            code.pop(0)\n",
    "\n",
    "    return len(code)==1"
   ],
   "outputs": [],
   "execution_count": 206
  },
  {
   "cell_type": "code",
   "metadata": {
    "collapsed": true,
    "ExecuteTime": {
     "end_time": "2025-08-12T10:44:27.020830Z",
     "start_time": "2025-08-12T10:44:27.011709Z"
    }
   },
   "source": [
    "# Check\n",
    "spy_game([1,2,4,0,0,7,5])"
   ],
   "outputs": [
    {
     "data": {
      "text/plain": [
       "True"
      ]
     },
     "execution_count": 207,
     "metadata": {},
     "output_type": "execute_result"
    }
   ],
   "execution_count": 207
  },
  {
   "cell_type": "code",
   "metadata": {
    "collapsed": true,
    "ExecuteTime": {
     "end_time": "2025-08-12T10:44:29.064670Z",
     "start_time": "2025-08-12T10:44:29.056924Z"
    }
   },
   "source": [
    "# Check\n",
    "spy_game([1,0,2,4,0,5,7])"
   ],
   "outputs": [
    {
     "data": {
      "text/plain": [
       "True"
      ]
     },
     "execution_count": 208,
     "metadata": {},
     "output_type": "execute_result"
    }
   ],
   "execution_count": 208
  },
  {
   "cell_type": "code",
   "metadata": {
    "collapsed": true,
    "ExecuteTime": {
     "end_time": "2025-08-12T10:44:30.346020Z",
     "start_time": "2025-08-12T10:44:30.338604Z"
    }
   },
   "source": [
    "# Check\n",
    "spy_game([1,7,2,0,4,5,0])"
   ],
   "outputs": [
    {
     "data": {
      "text/plain": [
       "False"
      ]
     },
     "execution_count": 209,
     "metadata": {},
     "output_type": "execute_result"
    }
   ],
   "execution_count": 209
  },
  {
   "cell_type": "markdown",
   "metadata": {},
   "source": [
    "#### COUNT PRIMES: Write a function that returns the *number* of prime numbers that exist up to and including a given number\n",
    "    count_primes(100) --> 25\n",
    "\n",
    "By convention, 0 and 1 are not prime."
   ]
  },
  {
   "cell_type": "code",
   "metadata": {
    "collapsed": true,
    "ExecuteTime": {
     "end_time": "2025-08-12T11:06:59.672360Z",
     "start_time": "2025-08-12T11:06:59.665638Z"
    }
   },
   "source": [
    "def count_primes(num):\n",
    "    primes = [2]\n",
    "    x = 3\n",
    "    if num < 2:  # for the case of num = 0 or 1\n",
    "        return 0\n",
    "    while x <= num:\n",
    "        for y in range(3,x,2):  # test all odd factors up to x-1\n",
    "            if x%y == 0:\n",
    "                x += 2\n",
    "                break\n",
    "        else:\n",
    "            primes.append(x)\n",
    "            x += 2\n",
    "    print(primes)\n",
    "    return len(primes)\n",
    "                "
   ],
   "outputs": [],
   "execution_count": 234
  },
  {
   "cell_type": "code",
   "metadata": {
    "collapsed": true,
    "ExecuteTime": {
     "end_time": "2025-08-12T11:07:02.239191Z",
     "start_time": "2025-08-12T11:07:02.230289Z"
    }
   },
   "source": [
    "# Check\n",
    "count_primes(100)\n"
   ],
   "outputs": [
    {
     "name": "stdout",
     "output_type": "stream",
     "text": [
      "[2, 3, 5, 7, 11, 13, 17, 19, 23, 29, 31, 37, 41, 43, 47, 53, 59, 61, 67, 71, 73, 79, 83, 89, 97]\n"
     ]
    },
    {
     "data": {
      "text/plain": [
       "25"
      ]
     },
     "execution_count": 235,
     "metadata": {},
     "output_type": "execute_result"
    }
   ],
   "execution_count": 235
  },
  {
   "cell_type": "markdown",
   "metadata": {},
   "source": [
    "### Just for fun:\n",
    "#### PRINT BIG: Write a function that takes in a single letter, and returns a 5x5 representation of that letter\n",
    "    print_big('a')\n",
    "    \n",
    "    out:   *  \n",
    "          * *\n",
    "         *****\n",
    "         *   *\n",
    "         *   *\n",
    "HINT: Consider making a dictionary of possible patterns, and mapping the alphabet to specific 5-line combinations of patterns. <br>For purposes of this exercise, it's ok if your dictionary stops at \"E\"."
   ]
  },
  {
   "cell_type": "code",
   "metadata": {
    "collapsed": true,
    "ExecuteTime": {
     "end_time": "2025-08-12T14:27:02.510871Z",
     "start_time": "2025-08-12T14:27:02.499301Z"
    }
   },
   "source": [
    "def print_big(letter):\n",
    "    images_letters = {\n",
    "        \"A\":\"  *  \\n * * \\n*****\\n*   *\\n*   *\",\n",
    "        \"B\":\"**** \\n*   *\\n**** \\n*   *\\n**** \",\n",
    "        \"C\":\"*****\\n*    \\n*    \\n*    \\n*****\",\n",
    "        \"D\":\"***  \\n*  * \\n*   *\\n*  * \\n***  \",\n",
    "        \"E\":\"*****\\n*    \\n***  \\n*    \\n*****\",\n",
    "        \"F\":\"*****\\n*    \\n***  \\n*    \\n*    \",\n",
    "        \"G\":\"*****\\n*    \\n* ***\\n*   *\\n*****\",\n",
    "        \"H\":\"*   *\\n*   *\\n*****\\n*   *\\n*   *\",\n",
    "        \"I\":\"*****\\n  *  \\n  *  \\n  *  \\n*****\",\n",
    "        \"J\":\"    *\\n\t*\\n*   *\\n*   *\\n*****\",\n",
    "        \"K\":\"*   *\\n*  * \\n***  \\n*  * \\n*   *\",\n",
    "        \"L\":\"*    \\n*    \\n*   *\\n*   *\\n*****\",\n",
    "        \"M\":\"*   *\\n* * *\\n*   *\\n*   *\\n*   *\",\n",
    "        \"N\":\"*   *\\n**  *\\n* * *\\n*  **\\n*   *\",\n",
    "        \"O\":\"*****\\n*   *\\n*   *\\n*   *\\n*****\",\n",
    "        \"P\":\"*****\\n*   *\\n*****\\n*    \\n*    \",\n",
    "        \"Q\":\"*****\\n*   *\\n*   *\\n**** \\n    *\",\n",
    "        \"R\":\"**** \\n*   *\\n**** \\n*   *\\n*   *\",\n",
    "        \"S\":\"**** \\n*    \\n**** \\n    *\\n**** \",\n",
    "        \"T\":\"*****\\n  *  \\n  *  \\n  *  \\n  *  \",\n",
    "        \"U\":\"*   *\\n*   *\\n*   *\\n*   *\\n *** \",\n",
    "        \"V\":\"*   *\\n*   *\\n * * \\n * * \\n  *  \",\n",
    "        \"W\":\"*   *\\n*   *\\n* * *\\n** **\\n*   *\",\n",
    "        \"X\":\"*   *\\n * * \\n  *  \\n * * \\n*   *\",\n",
    "        \"Y\":\"*   *\\n * * \\n  *  \\n  *  \\n  *  \",\n",
    "        \"Z\":\"*****\\n   * \\n  *  \\n *   \\n*****\"\n",
    "    }\n",
    "\n",
    "    patterns = {\n",
    "        1:\"**   \",\n",
    "        2:\"***  \",\n",
    "        3:\"**** \",\n",
    "        4:\"*****\",\n",
    "        5:\" ****\",\n",
    "        6:\"  ***\",\n",
    "        7:\"   **\",\n",
    "        8:\"*    \",\n",
    "        9:\" *   \",\n",
    "        10:\"  *  \",\n",
    "        11:\"   * \",\n",
    "        12:\"    *\",\n",
    "        13:\"  * *\",\n",
    "        14:\" *  *\",\n",
    "        15:\"*   *\",\n",
    "        16:\"*  * \",\n",
    "        17:\"* *  \",\n",
    "        18:\" **  \",\n",
    "        19:\" * * \",\n",
    "        20:\" *  *\",\n",
    "        21:\"* ***\",\n",
    "        22:\"*  **\",\n",
    "        23:\"* * *\",\n",
    "        24:\"* ** \",\n",
    "        25:\"** * \",\n",
    "        26:\"** **\",\n",
    "        27:\"**  *\",\n",
    "        28:\"*** *\",\n",
    "        29:\" *** \"\n",
    "    }\n",
    "    letters_patterns = {\n",
    "        \"A\": [10, 19, 4, 15, 15],\n",
    "        \"B\": [3, 15, 3, 15, 3],\n",
    "        \"C\": [4, 8, 8, 8, 4],\n",
    "        \"D\": [2, 16, 15, 16, 2],\n",
    "        \"E\": [4, 8, 2, 8, 4],\n",
    "        \"F\": [4, 8, 2, 8, 8],\n",
    "        \"G\": [4, 8, 21, 15, 4],\n",
    "        \"H\": [15, 15, 4, 15, 15],\n",
    "        \"I\": [4, 10, 10, 10, 4],\n",
    "        \"J\": [12, 12, 15, 15, 4],\n",
    "        \"K\": [15, 16, 2, 16, 15],\n",
    "        \"L\": [8, 8, 15, 15, 4],\n",
    "        \"M\": [15, 26, 23, 15, 15],\n",
    "        \"N\": [15, 27, 23, 22, 15],\n",
    "        \"O\": [4, 15, 15, 15, 4],\n",
    "        \"P\": [4, 15, 4, 8, 8],\n",
    "        \"Q\": [4, 15, 15, 3, 12],\n",
    "        \"R\": [3, 15, 3, 15, 15],\n",
    "        \"S\": [5, 8, 29, 12, 3],\n",
    "        \"T\": [4, 10, 10, 10, 10],\n",
    "        \"U\": [15, 15, 15, 15, 29],\n",
    "        \"V\": [15, 15, 19, 19, 10],\n",
    "        \"W\": [15, 15, 23, 26, 15],\n",
    "        \"X\": [15, 19, 10, 19, 15],\n",
    "        \"Y\": [15, 19, 10, 10, 10],\n",
    "        \"Z\": [4, 11, 10, 9, 4]\n",
    "    }\n",
    "\n",
    "    for pattern in letters_patterns[letter.upper()]:\n",
    "        print(patterns[pattern])\n",
    "\n",
    "    print()\n",
    "    #image = images_letters.get(letter.upper())\n",
    "    #print(image)"
   ],
   "outputs": [],
   "execution_count": 260
  },
  {
   "cell_type": "code",
   "metadata": {
    "collapsed": true,
    "ExecuteTime": {
     "end_time": "2025-08-12T14:26:43.479589Z",
     "start_time": "2025-08-12T14:26:43.466654Z"
    }
   },
   "source": [
    "print_big('a')\n",
    "print_big('b')\n",
    "print_big('c')\n",
    "print_big('d')\n",
    "print_big('e')\n",
    "print_big('f')\n",
    "print_big('g')\n",
    "print_big('h')\n",
    "print_big('i')\n",
    "print_big('j')\n",
    "print_big('k')\n",
    "print_big('l')\n",
    "print_big('m')\n",
    "print_big('n')\n",
    "print_big('o')\n",
    "print_big('p')\n",
    "print_big('q')\n",
    "print_big('r')\n",
    "print_big('s')\n",
    "print_big('t')\n",
    "print_big('u')\n",
    "print_big('v')\n",
    "print_big('w')\n",
    "print_big('x')\n",
    "print_big('y')\n",
    "print_big('z')"
   ],
   "outputs": [
    {
     "name": "stdout",
     "output_type": "stream",
     "text": [
      "  *  \n",
      " * * \n",
      "*****\n",
      "*   *\n",
      "*   *\n",
      "\n",
      "**** \n",
      "*   *\n",
      "**** \n",
      "*   *\n",
      "**** \n",
      "\n",
      "*****\n",
      "*    \n",
      "*    \n",
      "*    \n",
      "*****\n",
      "\n",
      "***  \n",
      "*  * \n",
      "*   *\n",
      "*  * \n",
      "***  \n",
      "\n",
      "*****\n",
      "*    \n",
      "***  \n",
      "*    \n",
      "*****\n",
      "\n",
      "*****\n",
      "*    \n",
      "***  \n",
      "*    \n",
      "*    \n",
      "\n",
      "*****\n",
      "*    \n",
      "* ***\n",
      "*   *\n",
      "*****\n",
      "\n",
      "*   *\n",
      "*   *\n",
      "*****\n",
      "*   *\n",
      "*   *\n",
      "\n",
      "*****\n",
      "  *  \n",
      "  *  \n",
      "  *  \n",
      "*****\n",
      "\n",
      "    *\n",
      "    *\n",
      "*   *\n",
      "*   *\n",
      "*****\n",
      "\n",
      "*   *\n",
      "*  * \n",
      "***  \n",
      "*  * \n",
      "*   *\n",
      "\n",
      "*    \n",
      "*    \n",
      "*   *\n",
      "*   *\n",
      "*****\n",
      "\n",
      "*   *\n",
      "** **\n",
      "* * *\n",
      "*   *\n",
      "*   *\n",
      "\n",
      "*   *\n",
      "**  *\n",
      "* * *\n",
      "*  **\n",
      "*   *\n",
      "\n",
      "*****\n",
      "*   *\n",
      "*   *\n",
      "*   *\n",
      "*****\n",
      "\n",
      "*****\n",
      "*   *\n",
      "*****\n",
      "*    \n",
      "*    \n",
      "\n",
      "*****\n",
      "*   *\n",
      "*   *\n",
      "*** *\n",
      "    *\n",
      "\n",
      "**** \n",
      "*   *\n",
      "**** \n",
      "*   *\n",
      "*   *\n",
      "\n",
      " ****\n",
      "*    \n",
      " *** \n",
      "    *\n",
      "**** \n",
      "\n",
      "*****\n",
      "  *  \n",
      "  *  \n",
      "  *  \n",
      "  *  \n",
      "\n",
      "*   *\n",
      "*   *\n",
      "*   *\n",
      "*   *\n",
      " *** \n",
      "\n",
      "*   *\n",
      "*   *\n",
      " * * \n",
      " * * \n",
      "  *  \n",
      "\n",
      "*   *\n",
      "*   *\n",
      "* * *\n",
      "** **\n",
      "*   *\n",
      "\n",
      "*   *\n",
      " * * \n",
      "  *  \n",
      " * * \n",
      "*   *\n",
      "\n",
      "*   *\n",
      " * * \n",
      "  *  \n",
      "  *  \n",
      "  *  \n",
      "\n",
      "*****\n",
      "   * \n",
      "  *  \n",
      " *   \n",
      "*****\n",
      "\n"
     ]
    }
   ],
   "execution_count": 259
  },
  {
   "cell_type": "markdown",
   "metadata": {},
   "source": [
    "## Great Job!"
   ]
  }
 ],
 "metadata": {
  "kernelspec": {
   "display_name": "Python 3",
   "language": "python",
   "name": "python3"
  },
  "language_info": {
   "codemirror_mode": {
    "name": "ipython",
    "version": 3
   },
   "file_extension": ".py",
   "mimetype": "text/x-python",
   "name": "python",
   "nbconvert_exporter": "python",
   "pygments_lexer": "ipython3",
   "version": "3.6.6"
  }
 },
 "nbformat": 4,
 "nbformat_minor": 2
}
