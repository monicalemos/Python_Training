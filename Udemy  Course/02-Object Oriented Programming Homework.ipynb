{
 "cells": [
  {
   "cell_type": "markdown",
   "metadata": {},
   "source": [
    "# Object Oriented Programming\n",
    "## Homework Assignment\n",
    "\n",
    "#### Problem 1\n",
    "Fill in the Line class methods to accept coordinates as a pair of tuples and return the slope and distance of the line."
   ]
  },
  {
   "cell_type": "code",
   "metadata": {
    "collapsed": true,
    "ExecuteTime": {
     "end_time": "2025-08-14T16:06:22.980471Z",
     "start_time": "2025-08-14T16:06:22.975051Z"
    }
   },
   "source": [
    "import math\n",
    "\n",
    "class Line:\n",
    "    \n",
    "    def __init__(self,coor1,coor2):\n",
    "        self.coordinate1 = coor1 #(x1, y1)\n",
    "        self.coordinate2 = coor2 #(x2, y2)\n",
    "    \n",
    "    def distance(self):\n",
    "        # d = √((x₂ - x₁)² + (y₂ - y₁)²)\n",
    "        x1 = self.coordinate1[0]\n",
    "        y1 = self.coordinate1[1]\n",
    "\n",
    "        x2 = self.coordinate2[0]\n",
    "        y2 = self.coordinate2[1]\n",
    "\n",
    "        return math.sqrt(math.pow(x1-x2,2)+math.pow(y1-y2,2))\n",
    "    \n",
    "    def slope(self):\n",
    "        # m = (y₂ - y₁) / (x₂ - x₁)\n",
    "        x1 = self.coordinate1[0]\n",
    "        y1 = self.coordinate1[1]\n",
    "\n",
    "        x2 = self.coordinate2[0]\n",
    "        y2 = self.coordinate2[1]\n",
    "\n",
    "        return (y2 - y1) / (x2 - x1)"
   ],
   "outputs": [],
   "execution_count": 36
  },
  {
   "cell_type": "code",
   "metadata": {
    "collapsed": true,
    "ExecuteTime": {
     "end_time": "2025-08-14T16:06:12.201788Z",
     "start_time": "2025-08-14T16:06:12.197658Z"
    }
   },
   "source": [
    "# EXAMPLE OUTPUT\n",
    "\n",
    "coordinate1 = (3,2)\n",
    "coordinate2 = (8,10)\n",
    "\n",
    "li = Line(coordinate1,coordinate2)"
   ],
   "outputs": [],
   "execution_count": 34
  },
  {
   "cell_type": "code",
   "metadata": {
    "ExecuteTime": {
     "end_time": "2025-08-14T16:06:15.696873Z",
     "start_time": "2025-08-14T16:06:15.690912Z"
    }
   },
   "source": [
    "#9.433981132056603\n",
    "li.distance()"
   ],
   "outputs": [
    {
     "data": {
      "text/plain": [
       "9.433981132056603"
      ]
     },
     "execution_count": 35,
     "metadata": {},
     "output_type": "execute_result"
    }
   ],
   "execution_count": 35
  },
  {
   "cell_type": "code",
   "metadata": {
    "ExecuteTime": {
     "end_time": "2025-08-14T16:04:06.723592Z",
     "start_time": "2025-08-14T16:04:06.716990Z"
    }
   },
   "source": [
    "#1.6\n",
    "li.slope()"
   ],
   "outputs": [
    {
     "data": {
      "text/plain": [
       "1.6"
      ]
     },
     "execution_count": 28,
     "metadata": {},
     "output_type": "execute_result"
    }
   ],
   "execution_count": 28
  },
  {
   "cell_type": "markdown",
   "metadata": {},
   "source": [
    "________\n",
    "#### Problem 2"
   ]
  },
  {
   "cell_type": "markdown",
   "metadata": {},
   "source": [
    "Fill in the class "
   ]
  },
  {
   "cell_type": "code",
   "metadata": {
    "collapsed": true,
    "ExecuteTime": {
     "end_time": "2025-08-14T16:05:54.047035Z",
     "start_time": "2025-08-14T16:05:54.041652Z"
    }
   },
   "source": [
    "import math\n",
    "\n",
    "class Cylinder:\n",
    "    \n",
    "    def __init__(self,height=1,radius=1):\n",
    "        self.height = height\n",
    "        self.radius = radius\n",
    "        \n",
    "    def volume(self):\n",
    "        # V = πr²h\n",
    "        pi = math.pi\n",
    "        return round(pi * math.pow(self.radius,2) * self.height, 2)\n",
    "    \n",
    "    def surface_area(self):\n",
    "        # 2πrh + 2πr²\n",
    "        pi = math.pi\n",
    "        return round((2 * pi * self.radius * self.height) + (2 * pi * math.pow(self.radius,2)),2)"
   ],
   "outputs": [],
   "execution_count": 29
  },
  {
   "cell_type": "code",
   "metadata": {
    "collapsed": true,
    "ExecuteTime": {
     "end_time": "2025-08-14T16:05:56.385972Z",
     "start_time": "2025-08-14T16:05:56.379954Z"
    }
   },
   "source": [
    "# EXAMPLE OUTPUT\n",
    "c = Cylinder(2,3)"
   ],
   "outputs": [],
   "execution_count": 30
  },
  {
   "cell_type": "code",
   "metadata": {
    "ExecuteTime": {
     "end_time": "2025-08-14T16:05:58.640647Z",
     "start_time": "2025-08-14T16:05:58.634246Z"
    }
   },
   "source": [
    "# 56.52\n",
    "c.volume()"
   ],
   "outputs": [
    {
     "data": {
      "text/plain": [
       "56.55"
      ]
     },
     "execution_count": 31,
     "metadata": {},
     "output_type": "execute_result"
    }
   ],
   "execution_count": 31
  },
  {
   "cell_type": "code",
   "metadata": {
    "ExecuteTime": {
     "end_time": "2025-08-14T16:06:00.237242Z",
     "start_time": "2025-08-14T16:06:00.229696Z"
    }
   },
   "source": [
    "# 94.25\n",
    "c.surface_area()"
   ],
   "outputs": [
    {
     "data": {
      "text/plain": [
       "94.25"
      ]
     },
     "execution_count": 32,
     "metadata": {},
     "output_type": "execute_result"
    }
   ],
   "execution_count": 32
  }
 ],
 "metadata": {
  "kernelspec": {
   "display_name": "Python 3",
   "language": "python",
   "name": "python3"
  },
  "language_info": {
   "codemirror_mode": {
    "name": "ipython",
    "version": 3
   },
   "file_extension": ".py",
   "mimetype": "text/x-python",
   "name": "python",
   "nbconvert_exporter": "python",
   "pygments_lexer": "ipython3",
   "version": "3.6.6"
  }
 },
 "nbformat": 4,
 "nbformat_minor": 1
}
