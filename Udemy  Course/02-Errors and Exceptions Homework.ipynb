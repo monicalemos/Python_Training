{
 "cells": [
  {
   "cell_type": "markdown",
   "metadata": {},
   "source": [
    "# Errors and Exceptions Homework"
   ]
  },
  {
   "cell_type": "markdown",
   "metadata": {},
   "source": [
    "### Problem 1\n",
    "Handle the exception thrown by the code below by using <code>try</code> and <code>except</code> blocks."
   ]
  },
  {
   "cell_type": "code",
   "metadata": {
    "ExecuteTime": {
     "end_time": "2025-08-18T11:24:29.891955Z",
     "start_time": "2025-08-18T11:24:29.885690Z"
    }
   },
   "source": [
    "import sys\n",
    "\n",
    "try:\n",
    "    for i in ['a','b','c']:\n",
    "        print(i**2)\n",
    "except :\n",
    "    print(f\"We got an error of type {sys.exc_info()[0]}: {sys.exc_info()[1]}\")"
   ],
   "outputs": [
    {
     "name": "stdout",
     "output_type": "stream",
     "text": [
      "We got an error of type <class 'TypeError'>: unsupported operand type(s) for ** or pow(): 'str' and 'int'\n"
     ]
    }
   ],
   "execution_count": 6
  },
  {
   "cell_type": "markdown",
   "metadata": {},
   "source": [
    "### Problem 2\n",
    "Handle the exception thrown by the code below by using <code>try</code> and <code>except</code> blocks. Then use a <code>finally</code> block to print 'All Done.'"
   ]
  },
  {
   "cell_type": "code",
   "metadata": {
    "ExecuteTime": {
     "end_time": "2025-08-18T11:25:18.038657Z",
     "start_time": "2025-08-18T11:25:18.032710Z"
    }
   },
   "source": [
    "x = 5\n",
    "y = 0\n",
    "\n",
    "try:\n",
    "    z = x/y\n",
    "except ZeroDivisionError:\n",
    "    print(\"Can't divide by Zero!\")\n",
    "except:\n",
    "    print(f\"We got an error of type {sys.exc_info()[0]}: {sys.exc_info()[1]}\")\n",
    "finally:\n",
    "    print(\"All Done\")"
   ],
   "outputs": [
    {
     "name": "stdout",
     "output_type": "stream",
     "text": [
      "Can't divide by Zero!\n",
      "All Done\n"
     ]
    }
   ],
   "execution_count": 8
  },
  {
   "cell_type": "markdown",
   "metadata": {},
   "source": [
    "### Problem 3\n",
    "Write a function that asks for an integer and prints the square of it. Use a <code>while</code> loop with a <code>try</code>, <code>except</code>, <code>else</code> block to account for incorrect inputs."
   ]
  },
  {
   "cell_type": "code",
   "metadata": {
    "collapsed": true,
    "ExecuteTime": {
     "end_time": "2025-08-18T11:27:50.881441Z",
     "start_time": "2025-08-18T11:27:50.875986Z"
    }
   },
   "source": [
    "def ask():\n",
    "    while True:\n",
    "        try:\n",
    "            user = input(\"Enter a number: \")\n",
    "            number = int(user)\n",
    "        except ValueError:\n",
    "            print(f\"Invalid type of number: {type(user)} Need to provide a number.\")\n",
    "        except:\n",
    "            print(f\"We got an error of type {sys.exc_info()[0]}: {sys.exc_info()[1]}\")\n",
    "        else:\n",
    "            break\n",
    "\n",
    "    print('Thank you, your number squared is: ',number**2)\n",
    "    pass"
   ],
   "outputs": [],
   "execution_count": 9
  },
  {
   "cell_type": "code",
   "metadata": {
    "ExecuteTime": {
     "end_time": "2025-08-18T11:28:05.817638Z",
     "start_time": "2025-08-18T11:28:00.756128Z"
    }
   },
   "source": [
    "ask()"
   ],
   "outputs": [
    {
     "name": "stdout",
     "output_type": "stream",
     "text": [
      "Invalid type of number: <class 'str'> Need to provide a number.\n",
      "Thank you, your number squared is:  16\n"
     ]
    }
   ],
   "execution_count": 10
  },
  {
   "cell_type": "markdown",
   "metadata": {},
   "source": [
    "# Great Job!"
   ]
  }
 ],
 "metadata": {
  "kernelspec": {
   "display_name": "Python 3",
   "language": "python",
   "name": "python3"
  },
  "language_info": {
   "codemirror_mode": {
    "name": "ipython",
    "version": 3
   },
   "file_extension": ".py",
   "mimetype": "text/x-python",
   "name": "python",
   "nbconvert_exporter": "python",
   "pygments_lexer": "ipython3",
   "version": "3.6.6"
  }
 },
 "nbformat": 4,
 "nbformat_minor": 1
}
