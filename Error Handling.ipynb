{
 "cells": [
  {
   "cell_type": "code",
   "id": "initial_id",
   "metadata": {
    "collapsed": true,
    "ExecuteTime": {
     "end_time": "2025-08-18T10:58:07.390746Z",
     "start_time": "2025-08-18T10:58:07.380574Z"
    }
   },
   "source": [
    "def add(n1, n2):\n",
    "    print(n1+n2)"
   ],
   "outputs": [],
   "execution_count": 1
  },
  {
   "metadata": {
    "ExecuteTime": {
     "end_time": "2025-08-18T10:58:29.415392Z",
     "start_time": "2025-08-18T10:58:29.404309Z"
    }
   },
   "cell_type": "code",
   "source": "add(10, 20)",
   "id": "80ec4da4b64bdc51",
   "outputs": [
    {
     "name": "stdout",
     "output_type": "stream",
     "text": [
      "30\n"
     ]
    }
   ],
   "execution_count": 2
  },
  {
   "metadata": {
    "ExecuteTime": {
     "end_time": "2025-08-18T10:58:31.251661Z",
     "start_time": "2025-08-18T10:58:31.245336Z"
    }
   },
   "cell_type": "code",
   "source": "number1=10",
   "id": "9bb3ddabbcbd2891",
   "outputs": [],
   "execution_count": 3
  },
  {
   "metadata": {
    "ExecuteTime": {
     "end_time": "2025-08-18T10:58:34.605286Z",
     "start_time": "2025-08-18T10:58:33.044115Z"
    }
   },
   "cell_type": "code",
   "source": "number2= input(\"Please provide a number\")",
   "id": "776963ccae982c1a",
   "outputs": [],
   "execution_count": 4
  },
  {
   "metadata": {
    "ExecuteTime": {
     "end_time": "2025-08-18T10:59:26.964774Z",
     "start_time": "2025-08-18T10:59:26.882585Z"
    }
   },
   "cell_type": "code",
   "source": [
    "add(number1, number2)\n",
    "print(\"Something happened!\")"
   ],
   "id": "751302daaeb88bfe",
   "outputs": [
    {
     "ename": "TypeError",
     "evalue": "unsupported operand type(s) for +: 'int' and 'str'",
     "output_type": "error",
     "traceback": [
      "\u001B[31m---------------------------------------------------------------------------\u001B[39m",
      "\u001B[31mTypeError\u001B[39m                                 Traceback (most recent call last)",
      "\u001B[36mCell\u001B[39m\u001B[36m \u001B[39m\u001B[32mIn[6]\u001B[39m\u001B[32m, line 1\u001B[39m\n\u001B[32m----> \u001B[39m\u001B[32m1\u001B[39m \u001B[43madd\u001B[49m\u001B[43m(\u001B[49m\u001B[43mnumber1\u001B[49m\u001B[43m,\u001B[49m\u001B[43m \u001B[49m\u001B[43mnumber2\u001B[49m\u001B[43m)\u001B[49m\n\u001B[32m      2\u001B[39m \u001B[38;5;28mprint\u001B[39m(\u001B[33m\"\u001B[39m\u001B[33mSomething happened!\u001B[39m\u001B[33m\"\u001B[39m)\n",
      "\u001B[36mCell\u001B[39m\u001B[36m \u001B[39m\u001B[32mIn[1]\u001B[39m\u001B[32m, line 2\u001B[39m, in \u001B[36madd\u001B[39m\u001B[34m(n1, n2)\u001B[39m\n\u001B[32m      1\u001B[39m \u001B[38;5;28;01mdef\u001B[39;00m\u001B[38;5;250m \u001B[39m\u001B[34madd\u001B[39m(n1, n2):\n\u001B[32m----> \u001B[39m\u001B[32m2\u001B[39m     \u001B[38;5;28mprint\u001B[39m(\u001B[43mn1\u001B[49m\u001B[43m+\u001B[49m\u001B[43mn2\u001B[49m)\n",
      "\u001B[31mTypeError\u001B[39m: unsupported operand type(s) for +: 'int' and 'str'"
     ]
    }
   ],
   "execution_count": 6
  },
  {
   "metadata": {
    "ExecuteTime": {
     "end_time": "2025-08-18T11:04:14.162696Z",
     "start_time": "2025-08-18T11:04:14.150039Z"
    }
   },
   "cell_type": "code",
   "source": [
    "try:\n",
    "    #WANT TOm ATTEMPT\n",
    "    f = open('test.txt', 'r')\n",
    "    f.write(\"Write a test line\")\n",
    "except TypeError:\n",
    "    print(\"There was a type error!\")\n",
    "except OSError:\n",
    "    print(\"There was a OS error!\")\n",
    "except:\n",
    "    print(\"There was a unexpected error!\")\n",
    "else:\n",
    "    print(\"The Write went well\")\n",
    "finally:\n",
    "    print(\"I always run\")"
   ],
   "id": "f71a939559d29181",
   "outputs": [
    {
     "name": "stdout",
     "output_type": "stream",
     "text": [
      "There was a OS error!\n",
      "I always run\n"
     ]
    }
   ],
   "execution_count": 14
  },
  {
   "metadata": {
    "ExecuteTime": {
     "end_time": "2025-08-18T11:13:29.015645Z",
     "start_time": "2025-08-18T11:13:29.007601Z"
    }
   },
   "cell_type": "code",
   "source": [
    "def ask_for_int():\n",
    "    while True:\n",
    "        try:\n",
    "            result = int(input(\"Please provide a number: \"))\n",
    "        except:\n",
    "            print(\"Whoops! That is not a number\")\n",
    "            continue\n",
    "        else:\n",
    "            print(\"Yes thank you\")\n",
    "            break\n",
    "        finally:\n",
    "            print(\"End of try/except/finally\")"
   ],
   "id": "e6c440840202314",
   "outputs": [],
   "execution_count": 20
  },
  {
   "metadata": {
    "ExecuteTime": {
     "end_time": "2025-08-18T11:13:35.684143Z",
     "start_time": "2025-08-18T11:13:32.066922Z"
    }
   },
   "cell_type": "code",
   "source": "ask_for_int()",
   "id": "3937c4899b99069b",
   "outputs": [
    {
     "name": "stdout",
     "output_type": "stream",
     "text": [
      "Whoops! That is not a number\n",
      "End of try/except/finally\n",
      "Whoops! That is not a number\n",
      "End of try/except/finally\n",
      "Yes thank you\n",
      "End of try/except/finally\n"
     ]
    }
   ],
   "execution_count": 21
  }
 ],
 "metadata": {
  "kernelspec": {
   "display_name": "Python 3",
   "language": "python",
   "name": "python3"
  },
  "language_info": {
   "codemirror_mode": {
    "name": "ipython",
    "version": 2
   },
   "file_extension": ".py",
   "mimetype": "text/x-python",
   "name": "python",
   "nbconvert_exporter": "python",
   "pygments_lexer": "ipython2",
   "version": "2.7.6"
  }
 },
 "nbformat": 4,
 "nbformat_minor": 5
}
