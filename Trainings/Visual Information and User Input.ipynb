{
 "cells": [
  {
   "cell_type": "code",
   "id": "initial_id",
   "metadata": {
    "collapsed": true
   },
   "source": [
    "from IPython.core.display_functions import clear_output\n",
    "\n",
    "print([1,2,3])"
   ],
   "outputs": [],
   "execution_count": null
  },
  {
   "metadata": {},
   "cell_type": "code",
   "source": [
    "print([1,2,3])\n",
    "print([4,5,6])\n",
    "print([7,8,9])"
   ],
   "id": "62bf6bb02b507091",
   "outputs": [],
   "execution_count": null
  },
  {
   "metadata": {},
   "cell_type": "code",
   "source": [
    "def display(row1, row2, row3):\n",
    "    print(row1)\n",
    "    print(row2)\n",
    "    print(row3)"
   ],
   "id": "29f827d4ea0400c9",
   "outputs": [],
   "execution_count": null
  },
  {
   "metadata": {},
   "cell_type": "code",
   "source": [
    "row1 =[' ' , ' ' , ' ' ]\n",
    "row2 =[' ' , ' ' , ' ' ]\n",
    "row3 =[' ' , ' ' , ' ' ]"
   ],
   "id": "b778643e8d8e274c",
   "outputs": [],
   "execution_count": null
  },
  {
   "metadata": {},
   "cell_type": "code",
   "source": "display(row1, row2, row3)",
   "id": "c077148f9699dbe6",
   "outputs": [],
   "execution_count": null
  },
  {
   "metadata": {},
   "cell_type": "code",
   "source": "row2[1] = 'X'",
   "id": "2217fefa3482c6de",
   "outputs": [],
   "execution_count": null
  },
  {
   "metadata": {},
   "cell_type": "code",
   "source": "display(row1, row2, row3)",
   "id": "460b7e87a8fe3b8c",
   "outputs": [],
   "execution_count": null
  },
  {
   "metadata": {},
   "cell_type": "code",
   "source": "position_index = int(input(\"Choose an index position: \"))",
   "id": "110615eb0a762f3e",
   "outputs": [],
   "execution_count": null
  },
  {
   "metadata": {},
   "cell_type": "code",
   "source": [
    "row1[position_index] = 'X'\n",
    "display(row1, row2, row3)"
   ],
   "id": "3978ea73a4fa39e5",
   "outputs": [],
   "execution_count": null
  },
  {
   "metadata": {},
   "cell_type": "code",
   "source": [
    "def user_choice():\n",
    "    choice = \"\"\n",
    "    acceptable_range = range(0, 10)\n",
    "    int_choice = -1\n",
    "\n",
    "    while not choice.isdigit() or int_choice not in acceptable_range:\n",
    "        choice = input(\"Please enter a number (0-10): \")\n",
    "\n",
    "        if not choice.isdigit():\n",
    "            print(\"Sorry that is not a digit! \" + str(choice))\n",
    "        else:\n",
    "            int_choice = int(choice)\n",
    "            if int_choice not in acceptable_range:\n",
    "                print(\"Sorry you need to enter a number between 0 and 10! \" + str(int_choice))\n",
    "\n",
    "    return int_choice"
   ],
   "id": "2033f2cc54a219c6",
   "outputs": [],
   "execution_count": null
  },
  {
   "metadata": {},
   "cell_type": "code",
   "source": "user_choice()",
   "id": "b7b6f2e8d12ab7ba",
   "outputs": [],
   "execution_count": null
  },
  {
   "metadata": {
    "ExecuteTime": {
     "end_time": "2025-08-13T15:57:55.846599Z",
     "start_time": "2025-08-13T15:57:55.841456Z"
    }
   },
   "cell_type": "code",
   "source": "game_list = [0, 1, 2]",
   "id": "f86a404a6c0b5938",
   "outputs": [],
   "execution_count": 5
  },
  {
   "metadata": {
    "ExecuteTime": {
     "end_time": "2025-08-13T15:57:57.058219Z",
     "start_time": "2025-08-13T15:57:57.053857Z"
    }
   },
   "cell_type": "code",
   "source": [
    "def display_game(lst):\n",
    "    print(\"Here is the current list\")\n",
    "    print(lst)"
   ],
   "id": "dd54c98dc1ba14b8",
   "outputs": [],
   "execution_count": 6
  },
  {
   "metadata": {
    "ExecuteTime": {
     "end_time": "2025-08-13T15:57:58.457635Z",
     "start_time": "2025-08-13T15:57:58.451794Z"
    }
   },
   "cell_type": "code",
   "source": "display_game(game_list)",
   "id": "7a2961e114391fa",
   "outputs": [
    {
     "name": "stdout",
     "output_type": "stream",
     "text": [
      "Here is the current list\n",
      "[0, 1, 2]\n"
     ]
    }
   ],
   "execution_count": 7
  },
  {
   "metadata": {
    "ExecuteTime": {
     "end_time": "2025-08-13T16:01:06.738103Z",
     "start_time": "2025-08-13T16:01:06.731906Z"
    }
   },
   "cell_type": "code",
   "source": [
    "def position_choice():\n",
    "    choice = \"\"\n",
    "    acceptable_range = ['0', '1', '2']\n",
    "\n",
    "    while choice not in acceptable_range:\n",
    "        choice = input(\"Pick a position to replace (0, 1, 2): \")\n",
    "\n",
    "        if choice not in acceptable_range:\n",
    "            #clear_output()\n",
    "            print(\"Sorry, but you did not choose a valid position (0, 1, 2)\")\n",
    "\n",
    "    #clear_output()\n",
    "    return int(choice)"
   ],
   "id": "e6088cf7a57564ea",
   "outputs": [],
   "execution_count": 23
  },
  {
   "metadata": {
    "ExecuteTime": {
     "end_time": "2025-08-13T15:58:20.710897Z",
     "start_time": "2025-08-13T15:58:20.705895Z"
    }
   },
   "cell_type": "code",
   "source": [
    "def replacement_choice(gm_lst, pos):\n",
    "    user_placement = input(\"Type a string to place at the position\")\n",
    "    gm_lst[pos] = user_placement\n",
    "\n",
    "    return gm_lst"
   ],
   "id": "a3e3184c128901c8",
   "outputs": [],
   "execution_count": 10
  },
  {
   "metadata": {
    "ExecuteTime": {
     "end_time": "2025-08-13T16:01:03.070997Z",
     "start_time": "2025-08-13T16:01:03.065804Z"
    }
   },
   "cell_type": "code",
   "source": [
    "def gameon_choice():\n",
    "    choice = \"\"\n",
    "\n",
    "    acceptable_range = ['Y', 'N']\n",
    "\n",
    "    while choice not in acceptable_range:\n",
    "        choice = input(\"Would you like to keep playing? Y or N \")\n",
    "\n",
    "        if choice not in acceptable_range:\n",
    "            #clear_output()\n",
    "            print(\"Sorry, I didn't understand. Please make sure to choose Y or N\")\n",
    "\n",
    "    #clear_output()\n",
    "    return choice == \"Y\""
   ],
   "id": "33850fb60b3bff99",
   "outputs": [],
   "execution_count": 22
  },
  {
   "metadata": {
    "ExecuteTime": {
     "end_time": "2025-08-13T16:03:20.695426Z",
     "start_time": "2025-08-13T16:03:06.075153Z"
    }
   },
   "cell_type": "code",
   "source": [
    "#Variable to keep game playing\n",
    "game_on = True\n",
    "\n",
    "#First Game List\n",
    "game_list = [0,1,2]\n",
    "\n",
    "while game_on:\n",
    "    # Clear any historical output and show the fame list\n",
    "    #clear_output()\n",
    "    display_game(game_list)\n",
    "\n",
    "    # Have player choose position\n",
    "    position = position_choice()\n",
    "\n",
    "    # Rewrite that position and update game_list\n",
    "    game_list = replacement_choice(game_list, position)\n",
    "\n",
    "    # Clear Screen and show the updated game list\n",
    "    #clear_output()\n",
    "    display_game(game_list)\n",
    "\n",
    "    # Aks if you want to keep playing\n",
    "    game_on = gameon_choice()"
   ],
   "id": "124cda798d57461c",
   "outputs": [
    {
     "name": "stdout",
     "output_type": "stream",
     "text": [
      "Here is the current list\n",
      "[0, 1, 2]\n",
      "Here is the current list\n",
      "[0, 'new', 2]\n",
      "Here is the current list\n",
      "[0, 'new', 2]\n",
      "Here is the current list\n",
      "[0, 'brand new', 2]\n"
     ]
    }
   ],
   "execution_count": 26
  }
 ],
 "metadata": {
  "kernelspec": {
   "display_name": "Python 3",
   "language": "python",
   "name": "python3"
  },
  "language_info": {
   "codemirror_mode": {
    "name": "ipython",
    "version": 2
   },
   "file_extension": ".py",
   "mimetype": "text/x-python",
   "name": "python",
   "nbconvert_exporter": "python",
   "pygments_lexer": "ipython2",
   "version": "2.7.6"
  }
 },
 "nbformat": 4,
 "nbformat_minor": 5
}
